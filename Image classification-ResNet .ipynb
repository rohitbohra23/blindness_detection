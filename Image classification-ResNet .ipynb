{
 "cells": [
  {
   "cell_type": "code",
   "execution_count": 3,
   "metadata": {
    "_cell_guid": "b1076dfc-b9ad-4769-8c92-a6c4dae69d19",
    "_uuid": "8f2839f25d086af736a60e9eeb907d3b93b6e0e5"
   },
   "outputs": [
    {
     "name": "stdout",
     "output_type": "stream",
     "text": [
      "['test.csv', 'test_images', 'train.csv', 'sample_submission.csv', 'train_images']\n"
     ]
    }
   ],
   "source": [
    "# This Python 3 environment comes with many helpful analytics libraries installed\n",
    "# It is defined by the kaggle/python docker image: https://github.com/kaggle/docker-python\n",
    "# For example, here's several helpful packages to load in \n",
    "\n",
    "import numpy as np # linear algebra\n",
    "import pandas as pd # data processing, CSV file I/O (e.g. pd.read_csv)\n",
    "\n",
    "# Input data files are available in the \"../input/\" directory.\n",
    "# For example, running this (by clicking run or pressing Shift+Enter) will list the files in the input directory\n",
    "\n",
    "import os\n",
    "print(os.listdir(\"../input\"))\n",
    "\n",
    "# Any results you write to the current directory are saved as output."
   ]
  },
  {
   "cell_type": "code",
   "execution_count": 4,
   "metadata": {
    "_cell_guid": "79c7e3d0-c299-4dcb-8224-4455121ee9b0",
    "_uuid": "d629ff2d2480ee46fbb7e2d37f6b5fab8052498a"
   },
   "outputs": [],
   "source": [
    "import pandas as pd\n",
    "import json\n",
    "import numpy as np\n",
    "import os\n",
    "import keras\n",
    "import matplotlib.pyplot as plt\n",
    "from keras.layers import Dense,GlobalAveragePooling2D,Dropout\n",
    "from keras.applications import DenseNet169\n",
    "from keras.preprocessing import image\n",
    "from keras.applications.mobilenet import preprocess_input\n",
    "from keras.preprocessing.image import ImageDataGenerator\n",
    "from keras.models import Model\n",
    "from keras.optimizers import Adam\n",
    "from keras.callbacks import Callback,ModelCheckpoint, LearningRateScheduler, TensorBoard, EarlyStopping\n",
    "from sklearn.metrics import cohen_kappa_score"
   ]
  },
  {
   "cell_type": "code",
   "execution_count": 5,
   "metadata": {},
   "outputs": [
    {
     "name": "stderr",
     "output_type": "stream",
     "text": [
      "/opt/conda/lib/python3.6/site-packages/keras_applications/resnet50.py:265: UserWarning: The output shape of `ResNet50(include_top=False)` has been changed since Keras 2.2.0.\n",
      "  warnings.warn('The output shape of `ResNet50(include_top=False)` '\n"
     ]
    },
    {
     "name": "stdout",
     "output_type": "stream",
     "text": [
      "Downloading data from https://github.com/fchollet/deep-learning-models/releases/download/v0.2/resnet50_weights_tf_dim_ordering_tf_kernels_notop.h5\n",
      "94658560/94653016 [==============================] - 1s 0us/step\n"
     ]
    }
   ],
   "source": [
    "from keras.applications.resnet50 import ResNet50\n",
    "base_model = ResNet50(include_top=False)\n"
   ]
  },
  {
   "cell_type": "code",
   "execution_count": 27,
   "metadata": {},
   "outputs": [],
   "source": [
    "from keras import regularizers\n",
    "x=base_model.output\n",
    "x=GlobalAveragePooling2D()(x)\n",
    "x=Dropout(0.5)(x)\n",
    "preds=Dense(5, activation='softmax',kernel_regularizer=regularizers.l2(0.0001))(x)"
   ]
  },
  {
   "cell_type": "code",
   "execution_count": 28,
   "metadata": {},
   "outputs": [],
   "source": [
    "model = Model(inputs=base_model.input,outputs=preds)"
   ]
  },
  {
   "cell_type": "code",
   "execution_count": 29,
   "metadata": {},
   "outputs": [],
   "source": [
    "model.compile(\n",
    "    loss='categorical_crossentropy',\n",
    "    optimizer=Adam(lr=0.00001),\n",
    "    metrics=['accuracy']\n",
    ")\n"
   ]
  },
  {
   "cell_type": "code",
   "execution_count": 30,
   "metadata": {},
   "outputs": [
    {
     "data": {
      "text/html": [
       "<div>\n",
       "<style scoped>\n",
       "    .dataframe tbody tr th:only-of-type {\n",
       "        vertical-align: middle;\n",
       "    }\n",
       "\n",
       "    .dataframe tbody tr th {\n",
       "        vertical-align: top;\n",
       "    }\n",
       "\n",
       "    .dataframe thead th {\n",
       "        text-align: right;\n",
       "    }\n",
       "</style>\n",
       "<table border=\"1\" class=\"dataframe\">\n",
       "  <thead>\n",
       "    <tr style=\"text-align: right;\">\n",
       "      <th></th>\n",
       "      <th>id_code</th>\n",
       "      <th>diagnosis</th>\n",
       "    </tr>\n",
       "  </thead>\n",
       "  <tbody>\n",
       "    <tr>\n",
       "      <th>0</th>\n",
       "      <td>000c1434d8d7.png</td>\n",
       "      <td>2</td>\n",
       "    </tr>\n",
       "    <tr>\n",
       "      <th>1</th>\n",
       "      <td>001639a390f0.png</td>\n",
       "      <td>4</td>\n",
       "    </tr>\n",
       "    <tr>\n",
       "      <th>2</th>\n",
       "      <td>0024cdab0c1e.png</td>\n",
       "      <td>1</td>\n",
       "    </tr>\n",
       "    <tr>\n",
       "      <th>3</th>\n",
       "      <td>002c21358ce6.png</td>\n",
       "      <td>0</td>\n",
       "    </tr>\n",
       "    <tr>\n",
       "      <th>4</th>\n",
       "      <td>005b95c28852.png</td>\n",
       "      <td>0</td>\n",
       "    </tr>\n",
       "  </tbody>\n",
       "</table>\n",
       "</div>"
      ],
      "text/plain": [
       "            id_code diagnosis\n",
       "0  000c1434d8d7.png         2\n",
       "1  001639a390f0.png         4\n",
       "2  0024cdab0c1e.png         1\n",
       "3  002c21358ce6.png         0\n",
       "4  005b95c28852.png         0"
      ]
     },
     "execution_count": 30,
     "metadata": {},
     "output_type": "execute_result"
    }
   ],
   "source": [
    "train_df = pd.read_csv('../input/train.csv')\n",
    "train_df[\"id_code\"]=train_df[\"id_code\"].apply(lambda x:x+\".png\")\n",
    "train_df['diagnosis'] = train_df['diagnosis'].astype(str)\n",
    "train_df.head()"
   ]
  },
  {
   "cell_type": "code",
   "execution_count": 31,
   "metadata": {},
   "outputs": [
    {
     "data": {
      "text/plain": [
       "id_code      3662\n",
       "diagnosis    3662\n",
       "dtype: int64"
      ]
     },
     "execution_count": 31,
     "metadata": {},
     "output_type": "execute_result"
    }
   ],
   "source": [
    "train_df.count()"
   ]
  },
  {
   "cell_type": "code",
   "execution_count": 36,
   "metadata": {},
   "outputs": [],
   "source": [
    "nb_classes = 5\n",
    "lbls = list(map(str, range(nb_classes)))\n",
    "batch_size = 32\n",
    "img_size = 224\n",
    "nb_epochs = 15"
   ]
  },
  {
   "cell_type": "code",
   "execution_count": 37,
   "metadata": {},
   "outputs": [],
   "source": [
    "train_datagen=ImageDataGenerator(\n",
    "    rescale=1./255,\n",
    "    featurewise_center=True,\n",
    "    featurewise_std_normalization=True,\n",
    "    zca_whitening=True,\n",
    "    rotation_range=45,\n",
    "    width_shift_range=0.2, \n",
    "    height_shift_range=0.2,\n",
    "    horizontal_flip=True,\n",
    "    vertical_flip=True,\n",
    "    validation_split=0.2,   \n",
    "    zoom_range = 0.3,\n",
    "    )"
   ]
  },
  {
   "cell_type": "code",
   "execution_count": 38,
   "metadata": {},
   "outputs": [
    {
     "name": "stdout",
     "output_type": "stream",
     "text": [
      "Found 2930 validated image filenames belonging to 5 classes.\n",
      "break\n",
      "Found 732 validated image filenames belonging to 5 classes.\n"
     ]
    }
   ],
   "source": [
    "train_generator=train_datagen.flow_from_dataframe(\n",
    "    dataframe=train_df,\n",
    "    directory=\"../input/train_images\",\n",
    "    x_col=\"id_code\",\n",
    "    y_col=\"diagnosis\",\n",
    "    batch_size=batch_size,\n",
    "    shuffle=True,\n",
    "    class_mode=\"categorical\",\n",
    "    classes=lbls,\n",
    "    target_size=(img_size,img_size),\n",
    "    subset='training')\n",
    "\n",
    "print('break')\n",
    "\n",
    "valid_generator=train_datagen.flow_from_dataframe(\n",
    "    dataframe=train_df,\n",
    "    directory=\"../input/train_images\",\n",
    "    x_col=\"id_code\",\n",
    "    y_col=\"diagnosis\",\n",
    "    batch_size=batch_size,\n",
    "    shuffle=True,\n",
    "    class_mode=\"categorical\", \n",
    "    classes=lbls,\n",
    "    target_size=(img_size,img_size),\n",
    "    subset='validation')"
   ]
  },
  {
   "cell_type": "code",
   "execution_count": 39,
   "metadata": {},
   "outputs": [
    {
     "name": "stdout",
     "output_type": "stream",
     "text": [
      "Epoch 1/15\n",
      "30/30 [==============================] - 232s 8s/step - loss: 1.1135 - acc: 0.5760 - val_loss: 0.7966 - val_acc: 0.7008\n",
      "\n",
      "Epoch 00001: val_loss improved from inf to 0.79657, saving model to modeldense.h5\n",
      "Epoch 2/15\n",
      "30/30 [==============================] - 190s 6s/step - loss: 0.8182 - acc: 0.7010 - val_loss: 0.7445 - val_acc: 0.7249\n",
      "\n",
      "Epoch 00002: val_loss improved from 0.79657 to 0.74448, saving model to modeldense.h5\n",
      "Epoch 3/15\n",
      "30/30 [==============================] - 187s 6s/step - loss: 0.6809 - acc: 0.7458 - val_loss: 0.6608 - val_acc: 0.7500\n",
      "\n",
      "Epoch 00003: val_loss improved from 0.74448 to 0.66082, saving model to modeldense.h5\n",
      "Epoch 4/15\n",
      "30/30 [==============================] - 186s 6s/step - loss: 0.6437 - acc: 0.7580 - val_loss: 0.5931 - val_acc: 0.7773\n",
      "\n",
      "Epoch 00004: val_loss improved from 0.66082 to 0.59314, saving model to modeldense.h5\n",
      "Epoch 5/15\n",
      "30/30 [==============================] - 176s 6s/step - loss: 0.5929 - acc: 0.7729 - val_loss: 0.5651 - val_acc: 0.7866\n",
      "\n",
      "Epoch 00005: val_loss improved from 0.59314 to 0.56507, saving model to modeldense.h5\n",
      "Epoch 6/15\n",
      "30/30 [==============================] - 177s 6s/step - loss: 0.5930 - acc: 0.7729 - val_loss: 0.5602 - val_acc: 0.7897\n",
      "\n",
      "Epoch 00006: val_loss improved from 0.56507 to 0.56019, saving model to modeldense.h5\n",
      "Epoch 7/15\n",
      "30/30 [==============================] - 175s 6s/step - loss: 0.5451 - acc: 0.7957 - val_loss: 0.5472 - val_acc: 0.7742\n",
      "\n",
      "Epoch 00007: val_loss improved from 0.56019 to 0.54718, saving model to modeldense.h5\n",
      "Epoch 8/15\n",
      "30/30 [==============================] - 178s 6s/step - loss: 0.5471 - acc: 0.7937 - val_loss: 0.5457 - val_acc: 0.8054\n",
      "\n",
      "Epoch 00008: val_loss improved from 0.54718 to 0.54568, saving model to modeldense.h5\n",
      "Epoch 9/15\n",
      "30/30 [==============================] - 177s 6s/step - loss: 0.5764 - acc: 0.7844 - val_loss: 0.5467 - val_acc: 0.7877\n",
      "\n",
      "Epoch 00009: val_loss did not improve from 0.54568\n",
      "Epoch 10/15\n",
      "30/30 [==============================] - 176s 6s/step - loss: 0.5945 - acc: 0.7540 - val_loss: 0.5294 - val_acc: 0.7763\n",
      "\n",
      "Epoch 00010: val_loss improved from 0.54568 to 0.52943, saving model to modeldense.h5\n",
      "Epoch 11/15\n",
      "30/30 [==============================] - 180s 6s/step - loss: 0.5232 - acc: 0.8042 - val_loss: 0.5273 - val_acc: 0.7918\n",
      "\n",
      "Epoch 00011: val_loss improved from 0.52943 to 0.52726, saving model to modeldense.h5\n",
      "Epoch 12/15\n",
      "30/30 [==============================] - 177s 6s/step - loss: 0.5000 - acc: 0.8104 - val_loss: 0.5076 - val_acc: 0.8013\n",
      "\n",
      "Epoch 00012: val_loss improved from 0.52726 to 0.50756, saving model to modeldense.h5\n",
      "Epoch 13/15\n",
      "30/30 [==============================] - 179s 6s/step - loss: 0.5156 - acc: 0.8051 - val_loss: 0.5314 - val_acc: 0.7981\n",
      "\n",
      "Epoch 00013: val_loss did not improve from 0.50756\n",
      "Epoch 14/15\n",
      "30/30 [==============================] - 177s 6s/step - loss: 0.5062 - acc: 0.8052 - val_loss: 0.5285 - val_acc: 0.8015\n",
      "\n",
      "Epoch 00014: val_loss did not improve from 0.50756\n",
      "Epoch 15/15\n",
      "30/30 [==============================] - 176s 6s/step - loss: 0.4704 - acc: 0.8260 - val_loss: 0.5066 - val_acc: 0.7939\n",
      "\n",
      "Epoch 00015: val_loss improved from 0.50756 to 0.50658, saving model to modeldense.h5\n"
     ]
    }
   ],
   "source": [
    "from keras.callbacks import EarlyStopping, ModelCheckpoint\n",
    "\n",
    "es= EarlyStopping(monitor='val_loss', mode ='min', verbose = 1, patience = 10)\n",
    "mc = ModelCheckpoint('modeldense.h5', monitor='val_loss', save_best_only = True, mode ='min', verbose = 1)\n",
    "\n",
    "history = model.fit_generator(\n",
    "    generator=train_generator,\n",
    "    steps_per_epoch=30,\n",
    "    epochs=nb_epochs,\n",
    "    validation_data=valid_generator,\n",
    "    validation_steps = 30,\n",
    "    callbacks=[es,mc]\n",
    ")"
   ]
  },
  {
   "cell_type": "code",
   "execution_count": 43,
   "metadata": {},
   "outputs": [
    {
     "data": {
      "text/html": [
       "<div>\n",
       "<style scoped>\n",
       "    .dataframe tbody tr th:only-of-type {\n",
       "        vertical-align: middle;\n",
       "    }\n",
       "\n",
       "    .dataframe tbody tr th {\n",
       "        vertical-align: top;\n",
       "    }\n",
       "\n",
       "    .dataframe thead th {\n",
       "        text-align: right;\n",
       "    }\n",
       "</style>\n",
       "<table border=\"1\" class=\"dataframe\">\n",
       "  <thead>\n",
       "    <tr style=\"text-align: right;\">\n",
       "      <th></th>\n",
       "      <th>val_loss</th>\n",
       "      <th>val_acc</th>\n",
       "      <th>loss</th>\n",
       "      <th>acc</th>\n",
       "    </tr>\n",
       "  </thead>\n",
       "  <tbody>\n",
       "    <tr>\n",
       "      <th>0</th>\n",
       "      <td>0.796567</td>\n",
       "      <td>0.700837</td>\n",
       "      <td>1.113470</td>\n",
       "      <td>0.576042</td>\n",
       "    </tr>\n",
       "    <tr>\n",
       "      <th>1</th>\n",
       "      <td>0.744482</td>\n",
       "      <td>0.724895</td>\n",
       "      <td>0.818207</td>\n",
       "      <td>0.701042</td>\n",
       "    </tr>\n",
       "    <tr>\n",
       "      <th>2</th>\n",
       "      <td>0.660819</td>\n",
       "      <td>0.750000</td>\n",
       "      <td>0.680938</td>\n",
       "      <td>0.745833</td>\n",
       "    </tr>\n",
       "    <tr>\n",
       "      <th>3</th>\n",
       "      <td>0.593140</td>\n",
       "      <td>0.777311</td>\n",
       "      <td>0.645593</td>\n",
       "      <td>0.756871</td>\n",
       "    </tr>\n",
       "    <tr>\n",
       "      <th>4</th>\n",
       "      <td>0.565066</td>\n",
       "      <td>0.786611</td>\n",
       "      <td>0.592917</td>\n",
       "      <td>0.772917</td>\n",
       "    </tr>\n",
       "    <tr>\n",
       "      <th>5</th>\n",
       "      <td>0.560194</td>\n",
       "      <td>0.789749</td>\n",
       "      <td>0.593044</td>\n",
       "      <td>0.772917</td>\n",
       "    </tr>\n",
       "    <tr>\n",
       "      <th>6</th>\n",
       "      <td>0.547181</td>\n",
       "      <td>0.774160</td>\n",
       "      <td>0.546703</td>\n",
       "      <td>0.795983</td>\n",
       "    </tr>\n",
       "    <tr>\n",
       "      <th>7</th>\n",
       "      <td>0.545677</td>\n",
       "      <td>0.805439</td>\n",
       "      <td>0.547102</td>\n",
       "      <td>0.793750</td>\n",
       "    </tr>\n",
       "    <tr>\n",
       "      <th>8</th>\n",
       "      <td>0.546683</td>\n",
       "      <td>0.787657</td>\n",
       "      <td>0.576385</td>\n",
       "      <td>0.784375</td>\n",
       "    </tr>\n",
       "    <tr>\n",
       "      <th>9</th>\n",
       "      <td>0.529426</td>\n",
       "      <td>0.776261</td>\n",
       "      <td>0.593703</td>\n",
       "      <td>0.753700</td>\n",
       "    </tr>\n",
       "    <tr>\n",
       "      <th>10</th>\n",
       "      <td>0.527262</td>\n",
       "      <td>0.791841</td>\n",
       "      <td>0.523196</td>\n",
       "      <td>0.804167</td>\n",
       "    </tr>\n",
       "    <tr>\n",
       "      <th>11</th>\n",
       "      <td>0.507557</td>\n",
       "      <td>0.801255</td>\n",
       "      <td>0.499984</td>\n",
       "      <td>0.810417</td>\n",
       "    </tr>\n",
       "    <tr>\n",
       "      <th>12</th>\n",
       "      <td>0.531423</td>\n",
       "      <td>0.798117</td>\n",
       "      <td>0.517630</td>\n",
       "      <td>0.805497</td>\n",
       "    </tr>\n",
       "    <tr>\n",
       "      <th>13</th>\n",
       "      <td>0.528538</td>\n",
       "      <td>0.801471</td>\n",
       "      <td>0.506198</td>\n",
       "      <td>0.805208</td>\n",
       "    </tr>\n",
       "    <tr>\n",
       "      <th>14</th>\n",
       "      <td>0.506576</td>\n",
       "      <td>0.793933</td>\n",
       "      <td>0.470394</td>\n",
       "      <td>0.826042</td>\n",
       "    </tr>\n",
       "  </tbody>\n",
       "</table>\n",
       "</div>"
      ],
      "text/plain": [
       "    val_loss   val_acc      loss       acc\n",
       "0   0.796567  0.700837  1.113470  0.576042\n",
       "1   0.744482  0.724895  0.818207  0.701042\n",
       "2   0.660819  0.750000  0.680938  0.745833\n",
       "3   0.593140  0.777311  0.645593  0.756871\n",
       "4   0.565066  0.786611  0.592917  0.772917\n",
       "5   0.560194  0.789749  0.593044  0.772917\n",
       "6   0.547181  0.774160  0.546703  0.795983\n",
       "7   0.545677  0.805439  0.547102  0.793750\n",
       "8   0.546683  0.787657  0.576385  0.784375\n",
       "9   0.529426  0.776261  0.593703  0.753700\n",
       "10  0.527262  0.791841  0.523196  0.804167\n",
       "11  0.507557  0.801255  0.499984  0.810417\n",
       "12  0.531423  0.798117  0.517630  0.805497\n",
       "13  0.528538  0.801471  0.506198  0.805208\n",
       "14  0.506576  0.793933  0.470394  0.826042"
      ]
     },
     "execution_count": 43,
     "metadata": {},
     "output_type": "execute_result"
    }
   ],
   "source": [
    "history_df"
   ]
  },
  {
   "cell_type": "code",
   "execution_count": 42,
   "metadata": {},
   "outputs": [
    {
     "data": {
      "text/plain": [
       "<matplotlib.axes._subplots.AxesSubplot at 0x7f045e6198d0>"
      ]
     },
     "execution_count": 42,
     "metadata": {},
     "output_type": "execute_result"
    },
    {
     "data": {
      "image/png": "[encoded data removed]",
      "text/plain": [
       "<Figure size 432x288 with 1 Axes>"
      ]
     },
     "metadata": {
      "needs_background": "light"
     },
     "output_type": "display_data"
    },
    {
     "data": {
      "image/png": "[encoded data removed]",
      "text/plain": [
       "<Figure size 432x288 with 1 Axes>"
      ]
     },
     "metadata": {
      "needs_background": "light"
     },
     "output_type": "display_data"
    }
   ],
   "source": [
    "with open('history.json', 'w') as f:\n",
    "    json.dump(history.history, f)\n",
    "\n",
    "history_df = pd.DataFrame(history.history)\n",
    "history_df[['loss', 'val_loss']].plot()\n",
    "history_df[['acc', 'val_acc']].plot()"
   ]
  }
 ],
 "metadata": {
  "kernelspec": {
   "display_name": "Python 3",
   "language": "python",
   "name": "python3"
  },
  "language_info": {
   "codemirror_mode": {
    "name": "ipython",
    "version": 3
   },
   "file_extension": ".py",
   "mimetype": "text/x-python",
   "name": "python",
   "nbconvert_exporter": "python",
   "pygments_lexer": "ipython3",
   "version": "3.6.5"
  }
 },
 "nbformat": 4,
 "nbformat_minor": 1
}
