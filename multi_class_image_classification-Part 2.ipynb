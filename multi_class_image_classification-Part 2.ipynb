{
 "cells": [
  {
   "cell_type": "code",
   "execution_count": 1,
   "metadata": {},
   "outputs": [],
   "source": [
    "# importing the necessary package\n",
    "import pandas as pd\n",
    "import numpy as np"
   ]
  },
  {
   "cell_type": "code",
   "execution_count": 2,
   "metadata": {},
   "outputs": [],
   "source": [
    "# assigning the .csv file to a variable.\n",
    "label=pd.read_csv(\"/Users/rohitbohra/Documents/aptos2019-blindness-detection/label.csv\")"
   ]
  },
  {
   "cell_type": "code",
   "execution_count": 3,
   "metadata": {},
   "outputs": [
    {
     "data": {
      "text/html": [
       "<div>\n",
       "<style scoped>\n",
       "    .dataframe tbody tr th:only-of-type {\n",
       "        vertical-align: middle;\n",
       "    }\n",
       "\n",
       "    .dataframe tbody tr th {\n",
       "        vertical-align: top;\n",
       "    }\n",
       "\n",
       "    .dataframe thead th {\n",
       "        text-align: right;\n",
       "    }\n",
       "</style>\n",
       "<table border=\"1\" class=\"dataframe\">\n",
       "  <thead>\n",
       "    <tr style=\"text-align: right;\">\n",
       "      <th></th>\n",
       "      <th>Unnamed: 0</th>\n",
       "      <th>id_code</th>\n",
       "      <th>diagnosis</th>\n",
       "    </tr>\n",
       "  </thead>\n",
       "  <tbody>\n",
       "    <tr>\n",
       "      <th>0</th>\n",
       "      <td>0</td>\n",
       "      <td>000c1434d8d7.png</td>\n",
       "      <td>2</td>\n",
       "    </tr>\n",
       "    <tr>\n",
       "      <th>1</th>\n",
       "      <td>1</td>\n",
       "      <td>00a8624548a9.png</td>\n",
       "      <td>2</td>\n",
       "    </tr>\n",
       "    <tr>\n",
       "      <th>2</th>\n",
       "      <td>2</td>\n",
       "      <td>00cb6555d108.png</td>\n",
       "      <td>1</td>\n",
       "    </tr>\n",
       "    <tr>\n",
       "      <th>3</th>\n",
       "      <td>3</td>\n",
       "      <td>0104b032c141.png</td>\n",
       "      <td>3</td>\n",
       "    </tr>\n",
       "    <tr>\n",
       "      <th>4</th>\n",
       "      <td>4</td>\n",
       "      <td>0124dffecf29.png</td>\n",
       "      <td>1</td>\n",
       "    </tr>\n",
       "  </tbody>\n",
       "</table>\n",
       "</div>"
      ],
      "text/plain": [
       "   Unnamed: 0           id_code  diagnosis\n",
       "0           0  000c1434d8d7.png          2\n",
       "1           1  00a8624548a9.png          2\n",
       "2           2  00cb6555d108.png          1\n",
       "3           3  0104b032c141.png          3\n",
       "4           4  0124dffecf29.png          1"
      ]
     },
     "execution_count": 3,
     "metadata": {},
     "output_type": "execute_result"
    }
   ],
   "source": [
    "# first 5 rows in the dataframe.\n",
    "label.head()"
   ]
  },
  {
   "cell_type": "code",
   "execution_count": 4,
   "metadata": {},
   "outputs": [
    {
     "data": {
      "text/plain": [
       "['Unnamed: 0', 'id_code', 'diagnosis']"
      ]
     },
     "execution_count": 4,
     "metadata": {},
     "output_type": "execute_result"
    }
   ],
   "source": [
    "# column of the datasets\n",
    "list(label.columns) "
   ]
  },
  {
   "cell_type": "code",
   "execution_count": 5,
   "metadata": {},
   "outputs": [
    {
     "data": {
      "text/plain": [
       "['id_code', 'diagnosis']"
      ]
     },
     "execution_count": 5,
     "metadata": {},
     "output_type": "execute_result"
    }
   ],
   "source": [
    "# dropping the unnecessary column from the dataframe\n",
    "label=label.drop(['Unnamed: 0'], axis=1)\n",
    "list(label.columns) "
   ]
  },
  {
   "cell_type": "code",
   "execution_count": 6,
   "metadata": {},
   "outputs": [
    {
     "data": {
      "text/html": [
       "<div>\n",
       "<style scoped>\n",
       "    .dataframe tbody tr th:only-of-type {\n",
       "        vertical-align: middle;\n",
       "    }\n",
       "\n",
       "    .dataframe tbody tr th {\n",
       "        vertical-align: top;\n",
       "    }\n",
       "\n",
       "    .dataframe thead th {\n",
       "        text-align: right;\n",
       "    }\n",
       "</style>\n",
       "<table border=\"1\" class=\"dataframe\">\n",
       "  <thead>\n",
       "    <tr style=\"text-align: right;\">\n",
       "      <th></th>\n",
       "      <th>id_code</th>\n",
       "      <th>diagnosis</th>\n",
       "    </tr>\n",
       "  </thead>\n",
       "  <tbody>\n",
       "    <tr>\n",
       "      <th>0</th>\n",
       "      <td>000c1434d8d7.png</td>\n",
       "      <td>2</td>\n",
       "    </tr>\n",
       "    <tr>\n",
       "      <th>1</th>\n",
       "      <td>00a8624548a9.png</td>\n",
       "      <td>2</td>\n",
       "    </tr>\n",
       "    <tr>\n",
       "      <th>2</th>\n",
       "      <td>00cb6555d108.png</td>\n",
       "      <td>1</td>\n",
       "    </tr>\n",
       "    <tr>\n",
       "      <th>3</th>\n",
       "      <td>0104b032c141.png</td>\n",
       "      <td>3</td>\n",
       "    </tr>\n",
       "    <tr>\n",
       "      <th>4</th>\n",
       "      <td>0124dffecf29.png</td>\n",
       "      <td>1</td>\n",
       "    </tr>\n",
       "  </tbody>\n",
       "</table>\n",
       "</div>"
      ],
      "text/plain": [
       "            id_code  diagnosis\n",
       "0  000c1434d8d7.png          2\n",
       "1  00a8624548a9.png          2\n",
       "2  00cb6555d108.png          1\n",
       "3  0104b032c141.png          3\n",
       "4  0124dffecf29.png          1"
      ]
     },
     "execution_count": 6,
     "metadata": {},
     "output_type": "execute_result"
    }
   ],
   "source": [
    "# first 5 rows of data\n",
    "label.head()"
   ]
  },
  {
   "cell_type": "code",
   "execution_count": 7,
   "metadata": {},
   "outputs": [],
   "source": [
    "#importing the required packages\n",
    "import cv2 \n",
    "import os\n",
    "\n",
    "path=\"/Users/rohitbohra/Documents/aptos2019-blindness-detection/train_images/\"\n",
    "\n",
    "#functiion for resizing the images\n",
    "def get_image(path, id_code, size):\n",
    "    img_path = os.path.join(path, id_code)\n",
    "    image = cv2.imread(img_path)  \n",
    "    image = cv2.resize(image, (size,size))\n",
    "    image_arr = image.reshape( size,size, 3).astype('float32')/255\n",
    "    #print(image_arr.shape)\n",
    "    return image_arr"
   ]
  },
  {
   "cell_type": "code",
   "execution_count": 8,
   "metadata": {},
   "outputs": [],
   "source": [
    "# reshaping the image shape\n",
    "all_images = []\n",
    "all_images.append(label['id_code'].apply(lambda code: get_image('/Users/rohitbohra/Documents/aptos2019-blindness-detection/train_images/',code, 96)))\n",
    "x_train = np.array(all_images)\n",
    "\n",
    "x_train = x_train.reshape(x_train.shape[1], 96,96, 3).astype('float32')\n"
   ]
  },
  {
   "cell_type": "code",
   "execution_count": 9,
   "metadata": {},
   "outputs": [],
   "source": [
    "# labels of the dataset to be assigned to a variable\n",
    "y_train = label['diagnosis']"
   ]
  },
  {
   "cell_type": "code",
   "execution_count": 10,
   "metadata": {},
   "outputs": [
    {
     "name": "stderr",
     "output_type": "stream",
     "text": [
      "/Users/rohitbohra/anaconda3/lib/python3.6/site-packages/h5py/__init__.py:36: FutureWarning: Conversion of the second argument of issubdtype from `float` to `np.floating` is deprecated. In future, it will be treated as `np.float64 == np.dtype(float).type`.\n",
      "  from ._conv import register_converters as _register_converters\n",
      "Using TensorFlow backend.\n"
     ]
    }
   ],
   "source": [
    "# converting the label into categorical data\n",
    "from keras.utils import np_utils\n",
    "y_train = np_utils.to_categorical(y_train)\n",
    "\n",
    "# number of classes\n",
    "num_classes = y_train.shape[1]"
   ]
  },
  {
   "cell_type": "code",
   "execution_count": 11,
   "metadata": {},
   "outputs": [],
   "source": [
    "# splitting of dataset into train and test data with 80 - 20 split\n",
    "from sklearn.model_selection import train_test_split\n",
    "X_train, X_test, y_train, y_test = train_test_split(x_train, y_train, test_size=0.2, random_state=42)"
   ]
  },
  {
   "cell_type": "code",
   "execution_count": 15,
   "metadata": {},
   "outputs": [],
   "source": [
    "import pickle\n",
    "\n",
    "pickle_on=open(\"X_train.pickle\",'wb')\n",
    "pickle.dump(X_train,pickle_on)\n",
    "pickle_on.close()\n",
    "\n",
    "pickle_on=open(\"y_train.pickle\",'wb')\n",
    "pickle.dump(y_train,pickle_on)\n",
    "pickle_on.close()\n",
    "\n",
    "pickle_on=open(\"X_test.pickle\",'wb')\n",
    "pickle.dump(X_test,pickle_on)\n",
    "pickle_on.close()\n",
    "\n",
    "pickle_on=open(\"y_test.pickle\",'wb')\n",
    "pickle.dump(y_test,pickle_on)\n",
    "pickle_on.close()"
   ]
  },
  {
   "cell_type": "code",
   "execution_count": 16,
   "metadata": {},
   "outputs": [
    {
     "name": "stdout",
     "output_type": "stream",
     "text": [
      "(743, 96, 96, 3)\n",
      "(743, 5)\n",
      "(186, 96, 96, 3)\n",
      "(186, 5)\n"
     ]
    }
   ],
   "source": [
    "pickle_off = open(\"X_train.pickle\",'rb')\n",
    "X_train=pickle.load(pickle_off)\n",
    "print(X_train.shape)\n",
    "\n",
    "pickle_off = open(\"y_train.pickle\",'rb')\n",
    "y_train=pickle.load(pickle_off)\n",
    "print(y_train.shape)\n",
    "\n",
    "pickle_off = open(\"X_test.pickle\",'rb')\n",
    "X_test=pickle.load(pickle_off)\n",
    "print(X_test.shape)\n",
    "\n",
    "pickle_off = open(\"y_test.pickle\",'rb')\n",
    "y_test=pickle.load(pickle_off)\n",
    "print(y_test.shape)\n",
    "\n"
   ]
  },
  {
   "cell_type": "code",
   "execution_count": 21,
   "metadata": {},
   "outputs": [
    {
     "name": "stdout",
     "output_type": "stream",
     "text": [
      "(743, 96, 96, 3)\n",
      "(186, 96, 96, 3)\n"
     ]
    }
   ],
   "source": [
    "# checking the shape of the train data and test data\n",
    "print(X_train.shape)\n",
    "print(X_test.shape)"
   ]
  },
  {
   "cell_type": "code",
   "execution_count": 22,
   "metadata": {},
   "outputs": [],
   "source": [
    "# importing the packages for Neural Network uisng keras\n",
    "from keras.models import Sequential\n",
    "from keras.layers import Dense\n",
    "from keras.layers import Dropout, GaussianNoise, GaussianDropout\n",
    "from keras.layers import Flatten, BatchNormalization\n",
    "from keras.layers.convolutional import Conv2D, SeparableConv2D\n",
    "\n",
    "from keras.layers.convolutional import MaxPooling2D\n",
    "from keras.utils import np_utils\n",
    "from keras import backend as K\n",
    "from keras import regularizers"
   ]
  },
  {
   "cell_type": "code",
   "execution_count": 23,
   "metadata": {},
   "outputs": [],
   "source": [
    "# building a function with the required layers and regularization layers added'\n",
    "\n",
    "\n",
    "def build_model():\n",
    "    # create model\n",
    "    model = Sequential()\n",
    "    model.add(Conv2D(15, (9, 9), input_shape=[96,96,3], activation='relu'))\n",
    "    model.add(GaussianDropout(0.3))\n",
    "    model.add(Conv2D(30, (7, 7), activation='relu'))\n",
    "    model.add(MaxPooling2D(pool_size=(2, 2)))\n",
    "    model.add(Conv2D(30, (7, 7), activation='relu'))\n",
    "    model.add(MaxPooling2D(pool_size=(2, 2)))\n",
    "    model.add(Conv2D(50, (7, 7), activation='relu'))\n",
    "    model.add(Conv2D(50, (5, 5), activation='relu'))\n",
    "    \n",
    "    model.add(Dropout(0.2))\n",
    "    model.add(Flatten())\n",
    "    model.add(Dense(256, activation='relu', kernel_regularizer=regularizers.l2(0.01)))\n",
    "    model.add(Dense(128, activation='relu'))\n",
    "    model.add(Dense(128, activation='relu'))\n",
    "    model.add(Dense(50, activation='relu'))\n",
    "    model.add(Dense(num_classes, activation='softmax', kernel_regularizer=regularizers.l2(0.0001)\n",
    "                   ,activity_regularizer=regularizers.l1(0.01)))\n",
    "    \n",
    "    # Compile model\n",
    "    model.compile(loss='categorical_crossentropy', optimizer='adam', metrics=['accuracy'])\n",
    "    return model"
   ]
  },
  {
   "cell_type": "code",
   "execution_count": 24,
   "metadata": {},
   "outputs": [],
   "source": [
    "model = build_model()"
   ]
  },
  {
   "cell_type": "code",
   "execution_count": 25,
   "metadata": {},
   "outputs": [],
   "source": [
    "# using early stopping which will automatically stop the training of data when there is no improvement of the loss in test data\n",
    "\n",
    "from keras.callbacks import EarlyStopping, ModelCheckpoint\n",
    "es= EarlyStopping(monitor='val_loss', mode ='min', verbose = 1, patience = 10)\n",
    "mc = ModelCheckpoint('model.h5', monitor='val_loss', save_best_only = True, mode ='min', verbose = 1)"
   ]
  },
  {
   "cell_type": "code",
   "execution_count": 26,
   "metadata": {},
   "outputs": [
    {
     "name": "stdout",
     "output_type": "stream",
     "text": [
      "Train on 743 samples, validate on 186 samples\n",
      "Epoch 1/1000\n",
      "743/743 [==============================] - 62s 84ms/step - loss: 4.4149 - acc: 0.5047 - val_loss: 2.8607 - val_acc: 0.4785\n",
      "\n",
      "Epoch 00001: val_loss improved from inf to 2.86069, saving model to model.h5\n",
      "Epoch 2/1000\n",
      "743/743 [==============================] - 62s 84ms/step - loss: 2.3953 - acc: 0.5087 - val_loss: 1.9695 - val_acc: 0.4785\n",
      "\n",
      "Epoch 00002: val_loss improved from 2.86069 to 1.96951, saving model to model.h5\n",
      "Epoch 3/1000\n",
      "743/743 [==============================] - 60s 80ms/step - loss: 1.8223 - acc: 0.5087 - val_loss: 1.7015 - val_acc: 0.4785\n",
      "\n",
      "Epoch 00003: val_loss improved from 1.96951 to 1.70146, saving model to model.h5\n",
      "Epoch 4/1000\n",
      "743/743 [==============================] - 59s 80ms/step - loss: 1.6478 - acc: 0.5087 - val_loss: 1.6103 - val_acc: 0.4785\n",
      "\n",
      "Epoch 00004: val_loss improved from 1.70146 to 1.61034, saving model to model.h5\n",
      "Epoch 5/1000\n",
      "743/743 [==============================] - 61s 82ms/step - loss: 1.6065 - acc: 0.5087 - val_loss: 1.5511 - val_acc: 0.4785\n",
      "\n",
      "Epoch 00005: val_loss improved from 1.61034 to 1.55107, saving model to model.h5\n",
      "Epoch 6/1000\n",
      "743/743 [==============================] - 64s 85ms/step - loss: 1.5529 - acc: 0.5141 - val_loss: 1.6386 - val_acc: 0.5538\n",
      "\n",
      "Epoch 00006: val_loss did not improve from 1.55107\n",
      "Epoch 7/1000\n",
      "743/743 [==============================] - 62s 83ms/step - loss: 1.5120 - acc: 0.5195 - val_loss: 1.5896 - val_acc: 0.5000\n",
      "\n",
      "Epoch 00007: val_loss did not improve from 1.55107\n",
      "Epoch 8/1000\n",
      "743/743 [==============================] - 66s 89ms/step - loss: 1.4797 - acc: 0.5707 - val_loss: 1.4859 - val_acc: 0.6075\n",
      "\n",
      "Epoch 00008: val_loss improved from 1.55107 to 1.48587, saving model to model.h5\n",
      "Epoch 9/1000\n",
      "743/743 [==============================] - 68s 91ms/step - loss: 1.3777 - acc: 0.6272 - val_loss: 1.3449 - val_acc: 0.6344\n",
      "\n",
      "Epoch 00009: val_loss improved from 1.48587 to 1.34492, saving model to model.h5\n",
      "Epoch 10/1000\n",
      "743/743 [==============================] - 63s 84ms/step - loss: 1.3631 - acc: 0.6231 - val_loss: 1.8319 - val_acc: 0.5161\n",
      "\n",
      "Epoch 00010: val_loss did not improve from 1.34492\n",
      "Epoch 11/1000\n",
      "743/743 [==============================] - 62s 83ms/step - loss: 1.3611 - acc: 0.6447 - val_loss: 1.3097 - val_acc: 0.6720\n",
      "\n",
      "Epoch 00011: val_loss improved from 1.34492 to 1.30972, saving model to model.h5\n",
      "Epoch 12/1000\n",
      "743/743 [==============================] - 61s 82ms/step - loss: 1.2927 - acc: 0.6555 - val_loss: 1.3025 - val_acc: 0.6935\n",
      "\n",
      "Epoch 00012: val_loss improved from 1.30972 to 1.30254, saving model to model.h5\n",
      "Epoch 13/1000\n",
      "743/743 [==============================] - 62s 84ms/step - loss: 1.2211 - acc: 0.7026 - val_loss: 1.2924 - val_acc: 0.7312\n",
      "\n",
      "Epoch 00013: val_loss improved from 1.30254 to 1.29235, saving model to model.h5\n",
      "Epoch 14/1000\n",
      "743/743 [==============================] - 63s 84ms/step - loss: 1.2188 - acc: 0.6904 - val_loss: 1.2529 - val_acc: 0.6989\n",
      "\n",
      "Epoch 00014: val_loss improved from 1.29235 to 1.25291, saving model to model.h5\n",
      "Epoch 15/1000\n",
      "743/743 [==============================] - 65s 87ms/step - loss: 1.1989 - acc: 0.6864 - val_loss: 1.3140 - val_acc: 0.6667\n",
      "\n",
      "Epoch 00015: val_loss did not improve from 1.25291\n",
      "Epoch 16/1000\n",
      "743/743 [==============================] - 62s 83ms/step - loss: 1.2323 - acc: 0.6837 - val_loss: 1.2338 - val_acc: 0.7419\n",
      "\n",
      "Epoch 00016: val_loss improved from 1.25291 to 1.23385, saving model to model.h5\n",
      "Epoch 17/1000\n",
      "743/743 [==============================] - 62s 84ms/step - loss: 1.1616 - acc: 0.7133 - val_loss: 1.2034 - val_acc: 0.7097\n",
      "\n",
      "Epoch 00017: val_loss improved from 1.23385 to 1.20341, saving model to model.h5\n",
      "Epoch 18/1000\n",
      "743/743 [==============================] - 60s 80ms/step - loss: 1.1743 - acc: 0.7214 - val_loss: 1.2672 - val_acc: 0.7097\n",
      "\n",
      "Epoch 00018: val_loss did not improve from 1.20341\n",
      "Epoch 19/1000\n",
      "743/743 [==============================] - 60s 80ms/step - loss: 1.1633 - acc: 0.7066 - val_loss: 1.2124 - val_acc: 0.7312\n",
      "\n",
      "Epoch 00019: val_loss did not improve from 1.20341\n",
      "Epoch 20/1000\n",
      "743/743 [==============================] - 60s 81ms/step - loss: 1.1533 - acc: 0.6985 - val_loss: 1.2355 - val_acc: 0.7312\n",
      "\n",
      "Epoch 00020: val_loss did not improve from 1.20341\n",
      "Epoch 21/1000\n",
      "743/743 [==============================] - 60s 80ms/step - loss: 1.1217 - acc: 0.6985 - val_loss: 1.1707 - val_acc: 0.7258\n",
      "\n",
      "Epoch 00021: val_loss improved from 1.20341 to 1.17067, saving model to model.h5\n",
      "Epoch 22/1000\n",
      "743/743 [==============================] - 60s 81ms/step - loss: 1.0942 - acc: 0.7079 - val_loss: 1.1866 - val_acc: 0.7043\n",
      "\n",
      "Epoch 00022: val_loss did not improve from 1.17067\n",
      "Epoch 23/1000\n",
      "743/743 [==============================] - 60s 80ms/step - loss: 1.1107 - acc: 0.7268 - val_loss: 1.1791 - val_acc: 0.7151\n",
      "\n",
      "Epoch 00023: val_loss did not improve from 1.17067\n",
      "Epoch 24/1000\n",
      "743/743 [==============================] - 60s 80ms/step - loss: 1.1279 - acc: 0.7227 - val_loss: 1.1853 - val_acc: 0.7151\n",
      "\n",
      "Epoch 00024: val_loss did not improve from 1.17067\n",
      "Epoch 25/1000\n",
      "743/743 [==============================] - 60s 81ms/step - loss: 1.1105 - acc: 0.7174 - val_loss: 1.2457 - val_acc: 0.6774\n",
      "\n",
      "Epoch 00025: val_loss did not improve from 1.17067\n",
      "Epoch 26/1000\n",
      "743/743 [==============================] - 60s 81ms/step - loss: 1.2064 - acc: 0.7227 - val_loss: 1.2330 - val_acc: 0.6882\n",
      "\n",
      "Epoch 00026: val_loss did not improve from 1.17067\n",
      "Epoch 27/1000\n",
      "743/743 [==============================] - 62s 83ms/step - loss: 1.1426 - acc: 0.7201 - val_loss: 1.2331 - val_acc: 0.6989\n",
      "\n",
      "Epoch 00027: val_loss did not improve from 1.17067\n",
      "Epoch 28/1000\n",
      "743/743 [==============================] - 60s 80ms/step - loss: 1.1474 - acc: 0.7133 - val_loss: 1.2322 - val_acc: 0.6989\n",
      "\n",
      "Epoch 00028: val_loss did not improve from 1.17067\n",
      "Epoch 29/1000\n",
      "743/743 [==============================] - 60s 80ms/step - loss: 1.1408 - acc: 0.7066 - val_loss: 1.2031 - val_acc: 0.6828\n",
      "\n",
      "Epoch 00029: val_loss did not improve from 1.17067\n",
      "Epoch 30/1000\n",
      "743/743 [==============================] - 60s 81ms/step - loss: 1.1143 - acc: 0.7187 - val_loss: 1.2148 - val_acc: 0.6989\n",
      "\n",
      "Epoch 00030: val_loss did not improve from 1.17067\n",
      "Epoch 31/1000\n",
      "743/743 [==============================] - 60s 81ms/step - loss: 1.1066 - acc: 0.7214 - val_loss: 1.2156 - val_acc: 0.6989\n",
      "\n",
      "Epoch 00031: val_loss did not improve from 1.17067\n",
      "Epoch 00031: early stopping\n"
     ]
    },
    {
     "data": {
      "text/plain": [
       "<keras.callbacks.History at 0x11f474a90>"
      ]
     },
     "execution_count": 26,
     "metadata": {},
     "output_type": "execute_result"
    }
   ],
   "source": [
    "# Fitting the model and checking how the model performs\n",
    "model.fit(X_train, y_train, validation_data = (X_test, y_test),epochs=1000, batch_size=32, callbacks=[es,mc])"
   ]
  },
  {
   "cell_type": "code",
   "execution_count": 28,
   "metadata": {},
   "outputs": [
    {
     "name": "stdout",
     "output_type": "stream",
     "text": [
      "Train on 743 samples, validate on 186 samples\n",
      "Epoch 1/20\n",
      "743/743 [==============================] - 60s 80ms/step - loss: 1.1116 - acc: 0.7254 - val_loss: 1.1779 - val_acc: 0.6828\n",
      "\n",
      "Epoch 00001: val_loss did not improve from 1.17067\n",
      "Epoch 2/20\n",
      "743/743 [==============================] - 60s 80ms/step - loss: 1.1092 - acc: 0.7079 - val_loss: 1.1991 - val_acc: 0.7151\n",
      "\n",
      "Epoch 00002: val_loss did not improve from 1.17067\n",
      "Epoch 3/20\n",
      "743/743 [==============================] - 59s 80ms/step - loss: 1.1018 - acc: 0.7201 - val_loss: 1.2092 - val_acc: 0.7204\n",
      "\n",
      "Epoch 00003: val_loss did not improve from 1.17067\n",
      "Epoch 4/20\n",
      "743/743 [==============================] - 59s 80ms/step - loss: 1.0971 - acc: 0.7227 - val_loss: 1.2166 - val_acc: 0.7204\n",
      "\n",
      "Epoch 00004: val_loss did not improve from 1.17067\n",
      "Epoch 5/20\n",
      "743/743 [==============================] - 59s 80ms/step - loss: 1.0815 - acc: 0.7322 - val_loss: 1.2140 - val_acc: 0.6882\n",
      "\n",
      "Epoch 00005: val_loss did not improve from 1.17067\n",
      "Epoch 6/20\n",
      "743/743 [==============================] - 59s 80ms/step - loss: 1.0977 - acc: 0.7281 - val_loss: 1.2458 - val_acc: 0.6989\n",
      "\n",
      "Epoch 00006: val_loss did not improve from 1.17067\n",
      "Epoch 7/20\n",
      "743/743 [==============================] - 60s 80ms/step - loss: 1.1037 - acc: 0.7362 - val_loss: 1.1983 - val_acc: 0.7043\n",
      "\n",
      "Epoch 00007: val_loss did not improve from 1.17067\n",
      "Epoch 8/20\n",
      "743/743 [==============================] - 59s 80ms/step - loss: 1.1071 - acc: 0.7268 - val_loss: 1.2300 - val_acc: 0.7473\n",
      "\n",
      "Epoch 00008: val_loss did not improve from 1.17067\n",
      "Epoch 9/20\n",
      "743/743 [==============================] - 60s 80ms/step - loss: 1.1573 - acc: 0.7079 - val_loss: 1.2441 - val_acc: 0.7151\n",
      "\n",
      "Epoch 00009: val_loss did not improve from 1.17067\n",
      "Epoch 10/20\n",
      "743/743 [==============================] - 59s 80ms/step - loss: 1.1431 - acc: 0.7026 - val_loss: 1.2414 - val_acc: 0.7204\n",
      "\n",
      "Epoch 00010: val_loss did not improve from 1.17067\n",
      "Epoch 11/20\n",
      "743/743 [==============================] - 67s 90ms/step - loss: 1.0992 - acc: 0.7174 - val_loss: 1.1559 - val_acc: 0.7204\n",
      "\n",
      "Epoch 00011: val_loss improved from 1.17067 to 1.15591, saving model to model.h5\n",
      "Epoch 12/20\n",
      "743/743 [==============================] - 68s 91ms/step - loss: 1.0830 - acc: 0.7416 - val_loss: 1.1671 - val_acc: 0.6989\n",
      "\n",
      "Epoch 00012: val_loss did not improve from 1.15591\n",
      "Epoch 13/20\n",
      "743/743 [==============================] - 61s 83ms/step - loss: 1.0678 - acc: 0.7443 - val_loss: 1.1838 - val_acc: 0.7097\n",
      "\n",
      "Epoch 00013: val_loss did not improve from 1.15591\n",
      "Epoch 14/20\n",
      "743/743 [==============================] - 59s 79ms/step - loss: 1.0760 - acc: 0.7281 - val_loss: 1.2080 - val_acc: 0.7097\n",
      "\n",
      "Epoch 00014: val_loss did not improve from 1.15591\n",
      "Epoch 15/20\n",
      "743/743 [==============================] - 59s 79ms/step - loss: 1.0732 - acc: 0.7214 - val_loss: 1.2278 - val_acc: 0.6935\n",
      "\n",
      "Epoch 00015: val_loss did not improve from 1.15591\n",
      "Epoch 16/20\n",
      "743/743 [==============================] - 59s 80ms/step - loss: 1.0728 - acc: 0.7429 - val_loss: 1.2052 - val_acc: 0.7043\n",
      "\n",
      "Epoch 00016: val_loss did not improve from 1.15591\n",
      "Epoch 17/20\n",
      "743/743 [==============================] - 59s 79ms/step - loss: 1.0690 - acc: 0.7281 - val_loss: 1.3196 - val_acc: 0.6828\n",
      "\n",
      "Epoch 00017: val_loss did not improve from 1.15591\n",
      "Epoch 18/20\n",
      "743/743 [==============================] - 59s 80ms/step - loss: 1.0978 - acc: 0.7254 - val_loss: 1.2295 - val_acc: 0.6935\n",
      "\n",
      "Epoch 00018: val_loss did not improve from 1.15591\n",
      "Epoch 19/20\n",
      "743/743 [==============================] - 59s 79ms/step - loss: 1.0706 - acc: 0.7389 - val_loss: 1.2184 - val_acc: 0.7097\n",
      "\n",
      "Epoch 00019: val_loss did not improve from 1.15591\n",
      "Epoch 20/20\n",
      "743/743 [==============================] - 60s 81ms/step - loss: 1.0509 - acc: 0.7402 - val_loss: 1.2059 - val_acc: 0.6882\n",
      "\n",
      "Epoch 00020: val_loss did not improve from 1.15591\n"
     ]
    }
   ],
   "source": [
    "history=model.fit(X_train, y_train, validation_data = (X_test, y_test),epochs=20, batch_size=32, callbacks=[es,mc])"
   ]
  },
  {
   "cell_type": "code",
   "execution_count": 29,
   "metadata": {},
   "outputs": [],
   "source": [
    "import matplotlib.pyplot as plt\n",
    "import numpy as np\n",
    "import time\n",
    "# https://gist.github.com/greydanus/f6eee59eaf1d90fcb3b534a25362cea4\n",
    "# https://stackoverflow.com/a/14434334\n",
    "# this function is used to update the plots for each epoch and error\n",
    "def plt_dynamic_val(x, vy, ty, ax, colors=['b']):\n",
    "    ax.plot(x, vy, 'b', label=\"Validation Accuracy\")\n",
    "    ax.plot(x, ty, 'r', label=\"Train Accuracy\")\n",
    "    plt.legend()\n",
    "    plt.grid(True)\n",
    "    fig.canvas.draw()"
   ]
  },
  {
   "cell_type": "code",
   "execution_count": 32,
   "metadata": {},
   "outputs": [
    {
     "name": "stdout",
     "output_type": "stream",
     "text": [
      "Test Accuracy: 0.6881720423698425\n"
     ]
    },
    {
     "data": {
      "image/png": "[encoded data removed]",
      "text/plain": [
       "<Figure size 432x288 with 1 Axes>"
      ]
     },
     "metadata": {},
     "output_type": "display_data"
    }
   ],
   "source": [
    "# Checking the accuracy of model on test data\n",
    "score = model.evaluate(X_test, y_test, verbose=0) \n",
    "print('Test Accuracy:', score[1]) \n",
    "\n",
    "fig,ax = plt.subplots(1,1)\n",
    "ax.set_xlabel('epoch') ; ax.set_ylabel('categorical_crossentropy')\n",
    "\n",
    "# list of epoch numbers\n",
    "x = list(range(1,21))\n",
    "\n",
    "vy = history.history['acc']\n",
    "ty = history.history['val_acc']\n",
    "plt_dynamic_val(x, vy, ty, ax)"
   ]
  },
  {
   "cell_type": "code",
   "execution_count": 46,
   "metadata": {},
   "outputs": [],
   "source": [
    "def build_model1():\n",
    "    # create model\n",
    "    model = Sequential()\n",
    "    model.add(Conv2D(250, (9, 9), input_shape=[96,96,3], activation='relu'))\n",
    "    model.add(Dropout(0.5))\n",
    "    model.add(Conv2D(230, (7, 7), activation='relu'))\n",
    "    model.add(MaxPooling2D(pool_size=(2, 2)))\n",
    "    model.add(Dropout(0.5))\n",
    "    model.add(Conv2D(150, (7, 7), activation='relu'))\n",
    "    model.add(Conv2D(130, (5, 5), activation='relu'))\n",
    "    \n",
    "    model.add(Dropout(0.2))\n",
    "    model.add(Flatten())\n",
    "    model.add(Dense(526, activation='relu', kernel_regularizer=regularizers.l2(0.01)))\n",
    "    model.add(Dense(254, activation='relu'))\n",
    "    model.add(Dense(128, activation='relu'))\n",
    "    model.add(Dense(50, activation='relu'))\n",
    "    model.add(Dense(num_classes, activation='softmax', kernel_regularizer=regularizers.l2(0.0001)\n",
    "                   ,activity_regularizer=regularizers.l1(0.01)))\n",
    "    # Compile model\n",
    "    model.compile(loss='categorical_crossentropy', optimizer='adam', metrics=['accuracy'])\n",
    "    return model"
   ]
  },
  {
   "cell_type": "code",
   "execution_count": 47,
   "metadata": {},
   "outputs": [],
   "source": [
    "model = build_model1()"
   ]
  },
  {
   "cell_type": "code",
   "execution_count": 48,
   "metadata": {},
   "outputs": [],
   "source": [
    "from keras.callbacks import EarlyStopping, ModelCheckpoint\n",
    "es= EarlyStopping(monitor='val_loss', mode ='min', verbose = 1, patience = 10)\n",
    "mc = ModelCheckpoint('model1.h5', monitor='val_loss', save_best_only = True, mode ='min', verbose = 1)"
   ]
  },
  {
   "cell_type": "code",
   "execution_count": 49,
   "metadata": {},
   "outputs": [
    {
     "name": "stdout",
     "output_type": "stream",
     "text": [
      "Train on 743 samples, validate on 186 samples\n",
      "Epoch 1/1000\n",
      "743/743 [==============================] - 2048s 3s/step - loss: 7.0873 - acc: 0.4320 - val_loss: 4.3630 - val_acc: 0.4785\n",
      "\n",
      "Epoch 00001: val_loss improved from inf to 4.36305, saving model to model1.h5\n",
      "Epoch 2/1000\n",
      "743/743 [==============================] - 2033s 3s/step - loss: 3.4804 - acc: 0.4939 - val_loss: 2.5054 - val_acc: 0.5054\n",
      "\n",
      "Epoch 00002: val_loss improved from 4.36305 to 2.50539, saving model to model1.h5\n",
      "Epoch 3/1000\n",
      "743/743 [==============================] - 2042s 3s/step - loss: 2.0686 - acc: 0.6083 - val_loss: 1.7245 - val_acc: 0.6935\n",
      "\n",
      "Epoch 00003: val_loss improved from 2.50539 to 1.72454, saving model to model1.h5\n",
      "Epoch 4/1000\n",
      "743/743 [==============================] - 2035s 3s/step - loss: 1.6085 - acc: 0.6662 - val_loss: 1.5034 - val_acc: 0.6882\n",
      "\n",
      "Epoch 00004: val_loss improved from 1.72454 to 1.50343, saving model to model1.h5\n",
      "Epoch 5/1000\n",
      "743/743 [==============================] - 2031s 3s/step - loss: 1.4224 - acc: 0.6810 - val_loss: 1.4736 - val_acc: 0.6613\n",
      "\n",
      "Epoch 00005: val_loss improved from 1.50343 to 1.47365, saving model to model1.h5\n",
      "Epoch 6/1000\n",
      "743/743 [==============================] - 2035s 3s/step - loss: 1.3372 - acc: 0.6541 - val_loss: 1.3208 - val_acc: 0.6882\n",
      "\n",
      "Epoch 00006: val_loss improved from 1.47365 to 1.32081, saving model to model1.h5\n",
      "Epoch 7/1000\n",
      "743/743 [==============================] - 2031s 3s/step - loss: 1.2472 - acc: 0.6931 - val_loss: 1.3313 - val_acc: 0.6667\n",
      "\n",
      "Epoch 00007: val_loss did not improve from 1.32081\n",
      "Epoch 8/1000\n",
      "743/743 [==============================] - 2032s 3s/step - loss: 1.2849 - acc: 0.6904 - val_loss: 1.3705 - val_acc: 0.6935\n",
      "\n",
      "Epoch 00008: val_loss did not improve from 1.32081\n",
      "Epoch 9/1000\n",
      "743/743 [==============================] - 2027s 3s/step - loss: 1.4372 - acc: 0.6756 - val_loss: 1.5813 - val_acc: 0.6613\n",
      "\n",
      "Epoch 00009: val_loss did not improve from 1.32081\n",
      "Epoch 10/1000\n",
      "743/743 [==============================] - 2029s 3s/step - loss: 1.4802 - acc: 0.6703 - val_loss: 1.4020 - val_acc: 0.6667\n",
      "\n",
      "Epoch 00010: val_loss did not improve from 1.32081\n",
      "Epoch 11/1000\n",
      "743/743 [==============================] - 2030s 3s/step - loss: 1.2719 - acc: 0.6797 - val_loss: 1.2468 - val_acc: 0.6720\n",
      "\n",
      "Epoch 00011: val_loss improved from 1.32081 to 1.24681, saving model to model1.h5\n",
      "Epoch 12/1000\n",
      "743/743 [==============================] - 2033s 3s/step - loss: 1.1908 - acc: 0.6904 - val_loss: 1.1926 - val_acc: 0.6774\n",
      "\n",
      "Epoch 00012: val_loss improved from 1.24681 to 1.19263, saving model to model1.h5\n",
      "Epoch 13/1000\n",
      "743/743 [==============================] - 2042s 3s/step - loss: 1.1548 - acc: 0.6904 - val_loss: 1.1907 - val_acc: 0.6720\n",
      "\n",
      "Epoch 00013: val_loss improved from 1.19263 to 1.19069, saving model to model1.h5\n",
      "Epoch 14/1000\n",
      "743/743 [==============================] - 2179s 3s/step - loss: 1.1340 - acc: 0.6810 - val_loss: 1.1854 - val_acc: 0.6774\n",
      "\n",
      "Epoch 00014: val_loss improved from 1.19069 to 1.18544, saving model to model1.h5\n",
      "Epoch 15/1000\n",
      "743/743 [==============================] - 2032s 3s/step - loss: 1.1410 - acc: 0.7039 - val_loss: 1.1972 - val_acc: 0.6720\n",
      "\n",
      "Epoch 00015: val_loss did not improve from 1.18544\n",
      "Epoch 16/1000\n",
      "743/743 [==============================] - 2028s 3s/step - loss: 1.1345 - acc: 0.6972 - val_loss: 1.2754 - val_acc: 0.6774\n",
      "\n",
      "Epoch 00016: val_loss did not improve from 1.18544\n",
      "Epoch 17/1000\n",
      "743/743 [==============================] - 2030s 3s/step - loss: 1.1917 - acc: 0.6891 - val_loss: 1.2079 - val_acc: 0.7043\n",
      "\n",
      "Epoch 00017: val_loss did not improve from 1.18544\n",
      "Epoch 18/1000\n",
      "743/743 [==============================] - 2038s 3s/step - loss: 1.1306 - acc: 0.6891 - val_loss: 1.1864 - val_acc: 0.6720\n",
      "\n",
      "Epoch 00018: val_loss did not improve from 1.18544\n",
      "Epoch 19/1000\n",
      "743/743 [==============================] - 2032s 3s/step - loss: 1.1248 - acc: 0.6999 - val_loss: 1.1829 - val_acc: 0.6667\n",
      "\n",
      "Epoch 00019: val_loss improved from 1.18544 to 1.18293, saving model to model1.h5\n",
      "Epoch 20/1000\n",
      "743/743 [==============================] - 2029s 3s/step - loss: 1.0996 - acc: 0.7052 - val_loss: 1.1656 - val_acc: 0.6882\n",
      "\n",
      "Epoch 00020: val_loss improved from 1.18293 to 1.16563, saving model to model1.h5\n",
      "Epoch 21/1000\n",
      "743/743 [==============================] - 2029s 3s/step - loss: 1.1151 - acc: 0.6770 - val_loss: 1.2117 - val_acc: 0.6774\n",
      "\n",
      "Epoch 00021: val_loss did not improve from 1.16563\n",
      "Epoch 22/1000\n",
      "743/743 [==============================] - 2068s 3s/step - loss: 1.1362 - acc: 0.6891 - val_loss: 1.2426 - val_acc: 0.6774\n",
      "\n",
      "Epoch 00022: val_loss did not improve from 1.16563\n",
      "Epoch 23/1000\n",
      "743/743 [==============================] - 2036s 3s/step - loss: 1.1357 - acc: 0.6824 - val_loss: 1.1881 - val_acc: 0.6774\n",
      "\n",
      "Epoch 00023: val_loss did not improve from 1.16563\n",
      "Epoch 24/1000\n",
      "743/743 [==============================] - 2034s 3s/step - loss: 1.1205 - acc: 0.7012 - val_loss: 1.1731 - val_acc: 0.6774\n",
      "\n",
      "Epoch 00024: val_loss did not improve from 1.16563\n",
      "Epoch 25/1000\n",
      "743/743 [==============================] - 2032s 3s/step - loss: 1.1219 - acc: 0.7052 - val_loss: 1.1862 - val_acc: 0.6720\n",
      "\n",
      "Epoch 00025: val_loss did not improve from 1.16563\n",
      "Epoch 26/1000\n",
      "743/743 [==============================] - 2031s 3s/step - loss: 1.1965 - acc: 0.7066 - val_loss: 1.3618 - val_acc: 0.6774\n",
      "\n",
      "Epoch 00026: val_loss did not improve from 1.16563\n",
      "Epoch 27/1000\n",
      "743/743 [==============================] - 2034s 3s/step - loss: 1.2008 - acc: 0.7133 - val_loss: 1.2416 - val_acc: 0.6667\n",
      "\n",
      "Epoch 00027: val_loss did not improve from 1.16563\n",
      "Epoch 28/1000\n",
      "743/743 [==============================] - 2032s 3s/step - loss: 1.1437 - acc: 0.7120 - val_loss: 1.1780 - val_acc: 0.6720\n",
      "\n",
      "Epoch 00028: val_loss did not improve from 1.16563\n",
      "Epoch 29/1000\n",
      "743/743 [==============================] - 2032s 3s/step - loss: 1.1245 - acc: 0.7039 - val_loss: 1.1635 - val_acc: 0.6720\n",
      "\n",
      "Epoch 00029: val_loss improved from 1.16563 to 1.16347, saving model to model1.h5\n",
      "Epoch 30/1000\n",
      "743/743 [==============================] - 2029s 3s/step - loss: 1.1224 - acc: 0.7093 - val_loss: 1.2272 - val_acc: 0.6720\n",
      "\n",
      "Epoch 00030: val_loss did not improve from 1.16347\n",
      "Epoch 31/1000\n",
      "743/743 [==============================] - 2032s 3s/step - loss: 1.1571 - acc: 0.6958 - val_loss: 1.1861 - val_acc: 0.6935\n",
      "\n",
      "Epoch 00031: val_loss did not improve from 1.16347\n",
      "Epoch 32/1000\n",
      "743/743 [==============================] - 2032s 3s/step - loss: 1.1139 - acc: 0.7039 - val_loss: 1.2063 - val_acc: 0.6667\n",
      "\n",
      "Epoch 00032: val_loss did not improve from 1.16347\n",
      "Epoch 33/1000\n",
      "743/743 [==============================] - 2032s 3s/step - loss: 1.1030 - acc: 0.7241 - val_loss: 1.1745 - val_acc: 0.6774\n",
      "\n",
      "Epoch 00033: val_loss did not improve from 1.16347\n",
      "Epoch 34/1000\n",
      "743/743 [==============================] - 2028s 3s/step - loss: 1.1105 - acc: 0.7133 - val_loss: 1.1684 - val_acc: 0.6935\n",
      "\n",
      "Epoch 00034: val_loss did not improve from 1.16347\n",
      "Epoch 35/1000\n",
      "743/743 [==============================] - 2031s 3s/step - loss: 1.1072 - acc: 0.6878 - val_loss: 1.1776 - val_acc: 0.6720\n",
      "\n",
      "Epoch 00035: val_loss did not improve from 1.16347\n",
      "Epoch 36/1000\n",
      "743/743 [==============================] - 2034s 3s/step - loss: 1.0836 - acc: 0.7133 - val_loss: 1.1877 - val_acc: 0.6882\n",
      "\n",
      "Epoch 00036: val_loss did not improve from 1.16347\n",
      "Epoch 37/1000\n",
      "743/743 [==============================] - 2029s 3s/step - loss: 1.1097 - acc: 0.7174 - val_loss: 1.2903 - val_acc: 0.6882\n",
      "\n",
      "Epoch 00037: val_loss did not improve from 1.16347\n",
      "Epoch 38/1000\n",
      "743/743 [==============================] - 2031s 3s/step - loss: 1.1405 - acc: 0.7174 - val_loss: 1.2359 - val_acc: 0.6613\n",
      "\n",
      "Epoch 00038: val_loss did not improve from 1.16347\n",
      "Epoch 39/1000\n",
      "743/743 [==============================] - 2029s 3s/step - loss: 1.1255 - acc: 0.7187 - val_loss: 1.1993 - val_acc: 0.7097\n",
      "\n",
      "Epoch 00039: val_loss did not improve from 1.16347\n",
      "Epoch 00039: early stopping\n"
     ]
    },
    {
     "data": {
      "text/plain": [
       "<keras.callbacks.History at 0x14ce4d080>"
      ]
     },
     "execution_count": 49,
     "metadata": {},
     "output_type": "execute_result"
    }
   ],
   "source": [
    "model.fit(X_train, y_train, validation_data = (X_test, y_test),epochs=1000, batch_size=32, callbacks=[es,mc])"
   ]
  },
  {
   "cell_type": "code",
   "execution_count": 57,
   "metadata": {},
   "outputs": [
    {
     "name": "stdout",
     "output_type": "stream",
     "text": [
      "Test Accuracy: 0.47849462525818937\n"
     ]
    }
   ],
   "source": [
    "score = model.evaluate(X_test, y_test, verbose=0) \n",
    "print('Test Accuracy:', score[1]) "
   ]
  },
  {
   "cell_type": "code",
   "execution_count": 58,
   "metadata": {},
   "outputs": [
    {
     "name": "stdout",
     "output_type": "stream",
     "text": [
      "\t\t\t\tPerformance Table\n",
      "+---------------+----------------+------------+---------------+-----------+\n",
      "| No. of layers | Train Accuracy | Train loss | Test accuracy | Test loss |\n",
      "+---------------+----------------+------------+---------------+-----------+\n",
      "|       14      |     74.02      |   1.0509   |     68.82     |   1.2059  |\n",
      "|       14      |     71.87      |   1.1255   |     70.97     |   1.1993  |\n",
      "+---------------+----------------+------------+---------------+-----------+\n"
     ]
    }
   ],
   "source": [
    "from prettytable import PrettyTable    \n",
    "x = PrettyTable()\n",
    " \n",
    "x.field_names = [\"No. of layers\", \"Train Accuracy\",\"Train loss\",\"Test accuracy\",'Test loss']\n",
    "x.add_row([14,74.02,1.0509,68.82,1.2059])\n",
    "x.add_row([14,71.87,1.1255,70.97,1.1993])\n",
    "\n",
    "\n",
    "print('\\t\\t\\t\\tPerformance Table')\n",
    "print(x)"
   ]
  },
  {
   "cell_type": "markdown",
   "metadata": {},
   "source": [
    "# Conclusion \n",
    "\n",
    "1) The data is imbalance, the count of each class is highly imbalance.\n",
    "\n",
    "2) The image size is reshaped.\n",
    "\n",
    "3) We build a neural network model with a total of 14 layers and use regularization to avoid overfitting.\n",
    "\n",
    "4) We use EarlyStopping to automatically stop the training of the model when the model is not imporving.\n",
    "\n",
    "5) The first model's train loss = 1.0509 and train accuracy = 74.02, and test loss = 1.2059 and test accuracy = 68.82\n",
    "\n",
    "6) The model is slightly overfit as the model performs well for training dataset and not for testing dstaset. \n",
    "\n",
    "7) The second model's train loss = 1.1255 and train accuracy = 71.87, and test loss = 1.1993 and test accuracy = 70.97\n",
    "\n",
    "8) The model is a good fit for both training dataset and testing dataset."
   ]
  },
  {
   "cell_type": "markdown",
   "metadata": {},
   "source": [
    "# Future Enhancement\n",
    "\n",
    "1) For model to perform better, we can use other modeling techniques like transform learning.\n",
    "\n",
    "2) As the dataset is very less to build a strong model, we can use data generator to generate new data from existing dataset."
   ]
  }
 ],
 "metadata": {
  "kernelspec": {
   "display_name": "Python 3",
   "language": "python",
   "name": "python3"
  },
  "language_info": {
   "codemirror_mode": {
    "name": "ipython",
    "version": 3
   },
   "file_extension": ".py",
   "mimetype": "text/x-python",
   "name": "python",
   "nbconvert_exporter": "python",
   "pygments_lexer": "ipython3",
   "version": "3.6.5"
  }
 },
 "nbformat": 4,
 "nbformat_minor": 2
}
