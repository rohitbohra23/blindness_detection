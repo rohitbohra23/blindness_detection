{
 "cells": [
  {
   "cell_type": "code",
   "execution_count": 1,
   "metadata": {
    "_cell_guid": "b1076dfc-b9ad-4769-8c92-a6c4dae69d19",
    "_uuid": "8f2839f25d086af736a60e9eeb907d3b93b6e0e5"
   },
   "outputs": [
    {
     "name": "stdout",
     "output_type": "stream",
     "text": [
      "['test.csv', 'test_images', 'train.csv', 'sample_submission.csv', 'train_images']\n"
     ]
    }
   ],
   "source": [
    "# This Python 3 environment comes with many helpful analytics libraries installed\n",
    "# It is defined by the kaggle/python docker image: https://github.com/kaggle/docker-python\n",
    "# For example, here's several helpful packages to load in \n",
    "\n",
    "import numpy as np # linear algebra\n",
    "import pandas as pd # data processing, CSV file I/O (e.g. pd.read_csv)\n",
    "\n",
    "# Input data files are available in the \"../input/\" directory.\n",
    "# For example, running this (by clicking run or pressing Shift+Enter) will list the files in the input directory\n",
    "\n",
    "import os\n",
    "print(os.listdir(\"../input\"))\n",
    "\n",
    "# Any results you write to the current directory are saved as output."
   ]
  },
  {
   "cell_type": "code",
   "execution_count": 2,
   "metadata": {
    "_cell_guid": "79c7e3d0-c299-4dcb-8224-4455121ee9b0",
    "_uuid": "d629ff2d2480ee46fbb7e2d37f6b5fab8052498a"
   },
   "outputs": [
    {
     "name": "stderr",
     "output_type": "stream",
     "text": [
      "Using TensorFlow backend.\n"
     ]
    }
   ],
   "source": [
    "import pandas as pd\n",
    "import json\n",
    "import numpy as np\n",
    "import os\n",
    "import keras\n",
    "import matplotlib.pyplot as plt\n",
    "from keras.layers import Dense,GlobalAveragePooling2D,Dropout\n",
    "from keras.applications import DenseNet169\n",
    "from keras.preprocessing import image\n",
    "from keras.applications.mobilenet import preprocess_input\n",
    "from keras.preprocessing.image import ImageDataGenerator\n",
    "from keras.models import Model\n",
    "from keras.optimizers import Adam\n",
    "from keras.callbacks import Callback,ModelCheckpoint, LearningRateScheduler, TensorBoard, EarlyStopping\n",
    "from sklearn.metrics import cohen_kappa_score"
   ]
  },
  {
   "cell_type": "code",
   "execution_count": 19,
   "metadata": {},
   "outputs": [],
   "source": [
    "\n",
    "from keras.applications.vgg16 import VGG19\n",
    "from keras.preprocessing import image\n",
    "from keras.applications.vgg16 import preprocess_input\n",
    "import numpy as np\n",
    "\n",
    "base_model = VGG16(weights='imagenet', include_top=False)\n",
    "\n"
   ]
  },
  {
   "cell_type": "code",
   "execution_count": 7,
   "metadata": {},
   "outputs": [],
   "source": [
    "from keras import regularizers\n",
    "x=base_model.output\n",
    "x=GlobalAveragePooling2D()(x)\n",
    "x=Dropout(0.5)(x)\n",
    "preds=Dense(5, activation='softmax',kernel_regularizer=regularizers.l2(0.0001))(x)"
   ]
  },
  {
   "cell_type": "code",
   "execution_count": 8,
   "metadata": {},
   "outputs": [],
   "source": [
    "model = Model(inputs=base_model.input,outputs=preds)"
   ]
  },
  {
   "cell_type": "code",
   "execution_count": 9,
   "metadata": {},
   "outputs": [],
   "source": [
    "model.compile(\n",
    "    loss='categorical_crossentropy',\n",
    "    optimizer=Adam(lr=0.00001),\n",
    "    metrics=['accuracy']\n",
    ")\n"
   ]
  },
  {
   "cell_type": "code",
   "execution_count": 10,
   "metadata": {},
   "outputs": [
    {
     "data": {
      "text/html": [
       "<div>\n",
       "<style scoped>\n",
       "    .dataframe tbody tr th:only-of-type {\n",
       "        vertical-align: middle;\n",
       "    }\n",
       "\n",
       "    .dataframe tbody tr th {\n",
       "        vertical-align: top;\n",
       "    }\n",
       "\n",
       "    .dataframe thead th {\n",
       "        text-align: right;\n",
       "    }\n",
       "</style>\n",
       "<table border=\"1\" class=\"dataframe\">\n",
       "  <thead>\n",
       "    <tr style=\"text-align: right;\">\n",
       "      <th></th>\n",
       "      <th>id_code</th>\n",
       "      <th>diagnosis</th>\n",
       "    </tr>\n",
       "  </thead>\n",
       "  <tbody>\n",
       "    <tr>\n",
       "      <th>0</th>\n",
       "      <td>000c1434d8d7.png</td>\n",
       "      <td>2</td>\n",
       "    </tr>\n",
       "    <tr>\n",
       "      <th>1</th>\n",
       "      <td>001639a390f0.png</td>\n",
       "      <td>4</td>\n",
       "    </tr>\n",
       "    <tr>\n",
       "      <th>2</th>\n",
       "      <td>0024cdab0c1e.png</td>\n",
       "      <td>1</td>\n",
       "    </tr>\n",
       "    <tr>\n",
       "      <th>3</th>\n",
       "      <td>002c21358ce6.png</td>\n",
       "      <td>0</td>\n",
       "    </tr>\n",
       "    <tr>\n",
       "      <th>4</th>\n",
       "      <td>005b95c28852.png</td>\n",
       "      <td>0</td>\n",
       "    </tr>\n",
       "  </tbody>\n",
       "</table>\n",
       "</div>"
      ],
      "text/plain": [
       "            id_code diagnosis\n",
       "0  000c1434d8d7.png         2\n",
       "1  001639a390f0.png         4\n",
       "2  0024cdab0c1e.png         1\n",
       "3  002c21358ce6.png         0\n",
       "4  005b95c28852.png         0"
      ]
     },
     "execution_count": 10,
     "metadata": {},
     "output_type": "execute_result"
    }
   ],
   "source": [
    "train_df = pd.read_csv('../input/train.csv')\n",
    "train_df[\"id_code\"]=train_df[\"id_code\"].apply(lambda x:x+\".png\")\n",
    "train_df['diagnosis'] = train_df['diagnosis'].astype(str)\n",
    "train_df.head()"
   ]
  },
  {
   "cell_type": "code",
   "execution_count": 11,
   "metadata": {},
   "outputs": [
    {
     "data": {
      "text/plain": [
       "id_code      3662\n",
       "diagnosis    3662\n",
       "dtype: int64"
      ]
     },
     "execution_count": 11,
     "metadata": {},
     "output_type": "execute_result"
    }
   ],
   "source": [
    "train_df.count()"
   ]
  },
  {
   "cell_type": "code",
   "execution_count": 12,
   "metadata": {},
   "outputs": [],
   "source": [
    "nb_classes = 5\n",
    "lbls = list(map(str, range(nb_classes)))\n",
    "batch_size = 32\n",
    "img_size = 224\n",
    "nb_epochs = 15"
   ]
  },
  {
   "cell_type": "code",
   "execution_count": 13,
   "metadata": {},
   "outputs": [
    {
     "name": "stderr",
     "output_type": "stream",
     "text": [
      "/opt/conda/lib/python3.6/site-packages/keras_preprocessing/image/image_data_generator.py:341: UserWarning: This ImageDataGenerator specifies `zca_whitening` which overrides setting of`featurewise_std_normalization`.\n",
      "  warnings.warn('This ImageDataGenerator specifies '\n"
     ]
    }
   ],
   "source": [
    "train_datagen=ImageDataGenerator(\n",
    "    rescale=1./255,\n",
    "    featurewise_center=True,\n",
    "    featurewise_std_normalization=True,\n",
    "    zca_whitening=True,\n",
    "    rotation_range=45,\n",
    "    width_shift_range=0.2, \n",
    "    height_shift_range=0.2,\n",
    "    horizontal_flip=True,\n",
    "    vertical_flip=True,\n",
    "    validation_split=0.2,   \n",
    "    zoom_range = 0.3,\n",
    "    )"
   ]
  },
  {
   "cell_type": "code",
   "execution_count": 14,
   "metadata": {},
   "outputs": [
    {
     "name": "stdout",
     "output_type": "stream",
     "text": [
      "Found 2930 validated image filenames belonging to 5 classes.\n",
      "break\n",
      "Found 732 validated image filenames belonging to 5 classes.\n"
     ]
    }
   ],
   "source": [
    "train_generator=train_datagen.flow_from_dataframe(\n",
    "    dataframe=train_df,\n",
    "    directory=\"../input/train_images\",\n",
    "    x_col=\"id_code\",\n",
    "    y_col=\"diagnosis\",\n",
    "    batch_size=batch_size,\n",
    "    shuffle=True,\n",
    "    class_mode=\"categorical\",\n",
    "    classes=lbls,\n",
    "    target_size=(img_size,img_size),\n",
    "    subset='training')\n",
    "\n",
    "print('break')\n",
    "\n",
    "valid_generator=train_datagen.flow_from_dataframe(\n",
    "    dataframe=train_df,\n",
    "    directory=\"../input/train_images\",\n",
    "    x_col=\"id_code\",\n",
    "    y_col=\"diagnosis\",\n",
    "    batch_size=batch_size,\n",
    "    shuffle=True,\n",
    "    class_mode=\"categorical\", \n",
    "    classes=lbls,\n",
    "    target_size=(img_size,img_size),\n",
    "    subset='validation')"
   ]
  },
  {
   "cell_type": "code",
   "execution_count": 15,
   "metadata": {},
   "outputs": [
    {
     "name": "stdout",
     "output_type": "stream",
     "text": [
      "Epoch 1/15\n"
     ]
    },
    {
     "name": "stderr",
     "output_type": "stream",
     "text": [
      "/opt/conda/lib/python3.6/site-packages/keras_preprocessing/image/image_data_generator.py:716: UserWarning: This ImageDataGenerator specifies `featurewise_center`, but it hasn't been fit on any training data. Fit it first by calling `.fit(numpy_data)`.\n",
      "  warnings.warn('This ImageDataGenerator specifies '\n",
      "/opt/conda/lib/python3.6/site-packages/keras_preprocessing/image/image_data_generator.py:735: UserWarning: This ImageDataGenerator specifies `zca_whitening`, but it hasn't been fit on any training data. Fit it first by calling `.fit(numpy_data)`.\n",
      "  warnings.warn('This ImageDataGenerator specifies '\n"
     ]
    },
    {
     "name": "stdout",
     "output_type": "stream",
     "text": [
      "30/30 [==============================] - 237s 8s/step - loss: 1.4175 - acc: 0.4354 - val_loss: 1.2235 - val_acc: 0.4697\n",
      "\n",
      "Epoch 00001: val_loss improved from inf to 1.22346, saving model to modeldense.h5\n",
      "Epoch 2/15\n",
      "30/30 [==============================] - 197s 7s/step - loss: 1.1769 - acc: 0.5667 - val_loss: 1.0994 - val_acc: 0.5669\n",
      "\n",
      "Epoch 00002: val_loss improved from 1.22346 to 1.09939, saving model to modeldense.h5\n",
      "Epoch 3/15\n",
      "30/30 [==============================] - 194s 6s/step - loss: 1.1322 - acc: 0.5958 - val_loss: 1.0163 - val_acc: 0.6548\n",
      "\n",
      "Epoch 00003: val_loss improved from 1.09939 to 1.01626, saving model to modeldense.h5\n",
      "Epoch 4/15\n",
      "30/30 [==============================] - 195s 7s/step - loss: 1.0345 - acc: 0.6324 - val_loss: 1.0220 - val_acc: 0.6303\n",
      "\n",
      "Epoch 00004: val_loss did not improve from 1.01626\n",
      "Epoch 5/15\n",
      "30/30 [==============================] - 197s 7s/step - loss: 0.9609 - acc: 0.6719 - val_loss: 0.9305 - val_acc: 0.6695\n",
      "\n",
      "Epoch 00005: val_loss improved from 1.01626 to 0.93048, saving model to modeldense.h5\n",
      "Epoch 6/15\n",
      "30/30 [==============================] - 191s 6s/step - loss: 0.9226 - acc: 0.6802 - val_loss: 0.8851 - val_acc: 0.6778\n",
      "\n",
      "Epoch 00006: val_loss improved from 0.93048 to 0.88512, saving model to modeldense.h5\n",
      "Epoch 7/15\n",
      "30/30 [==============================] - 196s 7s/step - loss: 0.8931 - acc: 0.6855 - val_loss: 0.9006 - val_acc: 0.6765\n",
      "\n",
      "Epoch 00007: val_loss did not improve from 0.88512\n",
      "Epoch 8/15\n",
      "30/30 [==============================] - 194s 6s/step - loss: 0.8929 - acc: 0.6792 - val_loss: 0.8418 - val_acc: 0.7050\n",
      "\n",
      "Epoch 00008: val_loss improved from 0.88512 to 0.84184, saving model to modeldense.h5\n",
      "Epoch 9/15\n",
      "30/30 [==============================] - 196s 7s/step - loss: 0.8892 - acc: 0.6781 - val_loss: 0.8788 - val_acc: 0.6642\n",
      "\n",
      "Epoch 00009: val_loss did not improve from 0.84184\n",
      "Epoch 10/15\n",
      "30/30 [==============================] - 195s 7s/step - loss: 0.8484 - acc: 0.7022 - val_loss: 0.8108 - val_acc: 0.7090\n",
      "\n",
      "Epoch 00010: val_loss improved from 0.84184 to 0.81082, saving model to modeldense.h5\n",
      "Epoch 11/15\n",
      "30/30 [==============================] - 194s 6s/step - loss: 0.8212 - acc: 0.7115 - val_loss: 0.7855 - val_acc: 0.7144\n",
      "\n",
      "Epoch 00011: val_loss improved from 0.81082 to 0.78546, saving model to modeldense.h5\n",
      "Epoch 12/15\n",
      "30/30 [==============================] - 190s 6s/step - loss: 0.8261 - acc: 0.6958 - val_loss: 0.8318 - val_acc: 0.7113\n",
      "\n",
      "Epoch 00012: val_loss did not improve from 0.78546\n",
      "Epoch 13/15\n",
      "30/30 [==============================] - 187s 6s/step - loss: 0.7352 - acc: 0.7374 - val_loss: 0.7708 - val_acc: 0.6998\n",
      "\n",
      "Epoch 00013: val_loss improved from 0.78546 to 0.77084, saving model to modeldense.h5\n",
      "Epoch 14/15\n",
      "30/30 [==============================] - 187s 6s/step - loss: 0.8011 - acc: 0.7052 - val_loss: 0.7896 - val_acc: 0.7048\n",
      "\n",
      "Epoch 00014: val_loss did not improve from 0.77084\n",
      "Epoch 15/15\n",
      "30/30 [==============================] - 185s 6s/step - loss: 0.8021 - acc: 0.7146 - val_loss: 0.7394 - val_acc: 0.7406\n",
      "\n",
      "Epoch 00015: val_loss improved from 0.77084 to 0.73943, saving model to modeldense.h5\n"
     ]
    }
   ],
   "source": [
    "from keras.callbacks import EarlyStopping, ModelCheckpoint\n",
    "\n",
    "es= EarlyStopping(monitor='val_loss', mode ='min', verbose = 1, patience = 10)\n",
    "mc = ModelCheckpoint('modeldense.h5', monitor='val_loss', save_best_only = True, mode ='min', verbose = 1)\n",
    "\n",
    "history = model.fit_generator(\n",
    "    generator=train_generator,\n",
    "    steps_per_epoch=30,\n",
    "    epochs=nb_epochs,\n",
    "    validation_data=valid_generator,\n",
    "    validation_steps = 30,\n",
    "    callbacks=[es,mc]\n",
    ")"
   ]
  },
  {
   "cell_type": "code",
   "execution_count": 18,
   "metadata": {},
   "outputs": [
    {
     "data": {
      "text/html": [
       "<div>\n",
       "<style scoped>\n",
       "    .dataframe tbody tr th:only-of-type {\n",
       "        vertical-align: middle;\n",
       "    }\n",
       "\n",
       "    .dataframe tbody tr th {\n",
       "        vertical-align: top;\n",
       "    }\n",
       "\n",
       "    .dataframe thead th {\n",
       "        text-align: right;\n",
       "    }\n",
       "</style>\n",
       "<table border=\"1\" class=\"dataframe\">\n",
       "  <thead>\n",
       "    <tr style=\"text-align: right;\">\n",
       "      <th></th>\n",
       "      <th>val_loss</th>\n",
       "      <th>val_acc</th>\n",
       "      <th>loss</th>\n",
       "      <th>acc</th>\n",
       "    </tr>\n",
       "  </thead>\n",
       "  <tbody>\n",
       "    <tr>\n",
       "      <th>0</th>\n",
       "      <td>1.223463</td>\n",
       "      <td>0.469665</td>\n",
       "      <td>1.417477</td>\n",
       "      <td>0.435417</td>\n",
       "    </tr>\n",
       "    <tr>\n",
       "      <th>1</th>\n",
       "      <td>1.099390</td>\n",
       "      <td>0.566946</td>\n",
       "      <td>1.176947</td>\n",
       "      <td>0.566667</td>\n",
       "    </tr>\n",
       "    <tr>\n",
       "      <th>2</th>\n",
       "      <td>1.016264</td>\n",
       "      <td>0.654812</td>\n",
       "      <td>1.132160</td>\n",
       "      <td>0.595833</td>\n",
       "    </tr>\n",
       "    <tr>\n",
       "      <th>3</th>\n",
       "      <td>1.022027</td>\n",
       "      <td>0.630252</td>\n",
       "      <td>1.038171</td>\n",
       "      <td>0.631078</td>\n",
       "    </tr>\n",
       "    <tr>\n",
       "      <th>4</th>\n",
       "      <td>0.930479</td>\n",
       "      <td>0.669456</td>\n",
       "      <td>0.960877</td>\n",
       "      <td>0.671875</td>\n",
       "    </tr>\n",
       "    <tr>\n",
       "      <th>5</th>\n",
       "      <td>0.885120</td>\n",
       "      <td>0.677824</td>\n",
       "      <td>0.922586</td>\n",
       "      <td>0.680208</td>\n",
       "    </tr>\n",
       "    <tr>\n",
       "      <th>6</th>\n",
       "      <td>0.900550</td>\n",
       "      <td>0.676471</td>\n",
       "      <td>0.902436</td>\n",
       "      <td>0.681818</td>\n",
       "    </tr>\n",
       "    <tr>\n",
       "      <th>7</th>\n",
       "      <td>0.841836</td>\n",
       "      <td>0.705021</td>\n",
       "      <td>0.892863</td>\n",
       "      <td>0.679167</td>\n",
       "    </tr>\n",
       "    <tr>\n",
       "      <th>8</th>\n",
       "      <td>0.878774</td>\n",
       "      <td>0.664226</td>\n",
       "      <td>0.889182</td>\n",
       "      <td>0.678125</td>\n",
       "    </tr>\n",
       "    <tr>\n",
       "      <th>9</th>\n",
       "      <td>0.810824</td>\n",
       "      <td>0.709034</td>\n",
       "      <td>0.848343</td>\n",
       "      <td>0.701903</td>\n",
       "    </tr>\n",
       "    <tr>\n",
       "      <th>10</th>\n",
       "      <td>0.785460</td>\n",
       "      <td>0.714435</td>\n",
       "      <td>0.821192</td>\n",
       "      <td>0.711458</td>\n",
       "    </tr>\n",
       "    <tr>\n",
       "      <th>11</th>\n",
       "      <td>0.831797</td>\n",
       "      <td>0.711297</td>\n",
       "      <td>0.826116</td>\n",
       "      <td>0.695833</td>\n",
       "    </tr>\n",
       "    <tr>\n",
       "      <th>12</th>\n",
       "      <td>0.770839</td>\n",
       "      <td>0.699791</td>\n",
       "      <td>0.730222</td>\n",
       "      <td>0.739958</td>\n",
       "    </tr>\n",
       "    <tr>\n",
       "      <th>13</th>\n",
       "      <td>0.789572</td>\n",
       "      <td>0.704832</td>\n",
       "      <td>0.801116</td>\n",
       "      <td>0.705208</td>\n",
       "    </tr>\n",
       "    <tr>\n",
       "      <th>14</th>\n",
       "      <td>0.739432</td>\n",
       "      <td>0.740586</td>\n",
       "      <td>0.802141</td>\n",
       "      <td>0.714583</td>\n",
       "    </tr>\n",
       "  </tbody>\n",
       "</table>\n",
       "</div>"
      ],
      "text/plain": [
       "    val_loss   val_acc      loss       acc\n",
       "0   1.223463  0.469665  1.417477  0.435417\n",
       "1   1.099390  0.566946  1.176947  0.566667\n",
       "2   1.016264  0.654812  1.132160  0.595833\n",
       "3   1.022027  0.630252  1.038171  0.631078\n",
       "4   0.930479  0.669456  0.960877  0.671875\n",
       "5   0.885120  0.677824  0.922586  0.680208\n",
       "6   0.900550  0.676471  0.902436  0.681818\n",
       "7   0.841836  0.705021  0.892863  0.679167\n",
       "8   0.878774  0.664226  0.889182  0.678125\n",
       "9   0.810824  0.709034  0.848343  0.701903\n",
       "10  0.785460  0.714435  0.821192  0.711458\n",
       "11  0.831797  0.711297  0.826116  0.695833\n",
       "12  0.770839  0.699791  0.730222  0.739958\n",
       "13  0.789572  0.704832  0.801116  0.705208\n",
       "14  0.739432  0.740586  0.802141  0.714583"
      ]
     },
     "execution_count": 18,
     "metadata": {},
     "output_type": "execute_result"
    }
   ],
   "source": [
    "history_df"
   ]
  },
  {
   "cell_type": "code",
   "execution_count": 17,
   "metadata": {},
   "outputs": [
    {
     "data": {
      "text/plain": [
       "<matplotlib.axes._subplots.AxesSubplot at 0x7faf4c3070f0>"
      ]
     },
     "execution_count": 17,
     "metadata": {},
     "output_type": "execute_result"
    },
    {
     "data": {
      "image/png": "[encoded data removed]",
      "text/plain": [
       "<Figure size 432x288 with 1 Axes>"
      ]
     },
     "metadata": {
      "needs_background": "light"
     },
     "output_type": "display_data"
    },
    {
     "data": {
      "image/png": "[encoded data removed]",
      "text/plain": [
       "<Figure size 432x288 with 1 Axes>"
      ]
     },
     "metadata": {
      "needs_background": "light"
     },
     "output_type": "display_data"
    }
   ],
   "source": [
    "with open('history.json', 'w') as f:\n",
    "    json.dump(history.history, f)\n",
    "\n",
    "history_df = pd.DataFrame(history.history)\n",
    "history_df[['loss', 'val_loss']].plot()\n",
    "history_df[['acc', 'val_acc']].plot()"
   ]
  },
  {
   "cell_type": "code",
   "execution_count": null,
   "metadata": {},
   "outputs": [],
   "source": []
  }
 ],
 "metadata": {
  "kernelspec": {
   "display_name": "Python 3",
   "language": "python",
   "name": "python3"
  },
  "language_info": {
   "codemirror_mode": {
    "name": "ipython",
    "version": 3
   },
   "file_extension": ".py",
   "mimetype": "text/x-python",
   "name": "python",
   "nbconvert_exporter": "python",
   "pygments_lexer": "ipython3",
   "version": "3.6.5"
  }
 },
 "nbformat": 4,
 "nbformat_minor": 1
}
